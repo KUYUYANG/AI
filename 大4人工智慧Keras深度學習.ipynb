{
  "nbformat": 4,
  "nbformat_minor": 0,
  "metadata": {
    "colab": {
      "provenance": []
    },
    "kernelspec": {
      "name": "python3",
      "display_name": "Python 3"
    },
    "language_info": {
      "name": "python"
    },
    "accelerator": "GPU",
    "gpuClass": "standard"
  },
  "cells": [
    {
      "cell_type": "code",
      "execution_count": null,
      "metadata": {
        "colab": {
          "base_uri": "https://localhost:8080/"
        },
        "id": "WEi-UrwOeTfu",
        "outputId": "33d2a063-53b5-48af-f8dd-b8bc811f0856"
      },
      "outputs": [
        {
          "output_type": "stream",
          "name": "stdout",
          "text": [
            "Epoch 1/10\n",
            "32/32 [==============================] - 2s 13ms/step - loss: 414.0651 - accuracy: 0.1310\n",
            "Epoch 2/10\n",
            "32/32 [==============================] - 0s 12ms/step - loss: 1410.5461 - accuracy: 0.1210\n",
            "Epoch 3/10\n",
            "32/32 [==============================] - 0s 13ms/step - loss: 2713.0852 - accuracy: 0.1420\n",
            "Epoch 4/10\n",
            "32/32 [==============================] - 0s 12ms/step - loss: 4053.6218 - accuracy: 0.1270\n",
            "Epoch 5/10\n",
            "32/32 [==============================] - 0s 13ms/step - loss: 5478.5122 - accuracy: 0.1280\n",
            "Epoch 6/10\n",
            "32/32 [==============================] - 0s 15ms/step - loss: 6569.8491 - accuracy: 0.1210\n",
            "Epoch 7/10\n",
            "32/32 [==============================] - 1s 29ms/step - loss: 8023.7925 - accuracy: 0.1260\n",
            "Epoch 8/10\n",
            "32/32 [==============================] - 1s 31ms/step - loss: 8651.7646 - accuracy: 0.1400\n",
            "Epoch 9/10\n",
            "32/32 [==============================] - 1s 34ms/step - loss: 10276.2734 - accuracy: 0.1330\n",
            "Epoch 10/10\n",
            "32/32 [==============================] - 1s 27ms/step - loss: 11438.8848 - accuracy: 0.1300\n",
            "32/32 [==============================] - 1s 5ms/step - loss: 10822.5791 - accuracy: 0.1360\n",
            "0.13600000739097595\n"
          ]
        }
      ],
      "source": [
        "from tensorflow import keras\n",
        "from keras.models import Sequential\n",
        "from keras.layers import Dense, Dropout\n",
        " \n",
        "model = Sequential()\n",
        "model.add(Dense(512, activation='relu', input_dim=784))\n",
        "model.add(Dropout(0.2))\n",
        "model.add(Dense(10, activation='softmax'))\n",
        "model.compile(optimizer='adam', loss='categorical_crossentropy', metrics=['accuracy'])\n",
        " #建立一個3層的類神經網路。\n",
        "#第一層輸入為784，512個神經元\n",
        "#第二層為dropout層，參數為0.2\n",
        "#輸出層輸出為10個神經元\n",
        "\n",
        "import numpy as np\n",
        "data = np.random.random((1000, 784)) \n",
        "labels = np.random.randint(10, size=(1000, 10))\n",
        " \n",
        "model.fit(data, labels, epochs=10, batch_size=32)\n",
        "\n",
        " \n",
        "score=model.evaluate(data, labels)\n",
        "print(score[1])"
      ]
    }
  ]
}