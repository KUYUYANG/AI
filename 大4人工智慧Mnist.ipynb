{
  "nbformat": 4,
  "nbformat_minor": 0,
  "metadata": {
    "colab": {
      "provenance": []
    },
    "kernelspec": {
      "name": "python3",
      "display_name": "Python 3"
    },
    "language_info": {
      "name": "python"
    },
    "accelerator": "GPU",
    "gpuClass": "standard"
  },
  "cells": [
    {
      "cell_type": "code",
      "execution_count": null,
      "metadata": {
        "id": "2lLOZes-xUee"
      },
      "outputs": [],
      "source": [
        "from tensorflow import keras\n",
        "from keras.models import Sequential\n",
        "from keras.layers import Dense, Flatten\n",
        "model=Sequential()\n",
        "model.add(Flatten())\n",
        "model.add(Dense(120, activation='relu', input_dim=784))\n",
        "model.add(Dense(10, activation='sigmoid'))\n",
        "model.compile(optimizer='rmsprop', loss='sparse_categorical_crossentropy', metrics=['accuracy'])"
      ]
    },
    {
      "cell_type": "code",
      "source": [
        "mnist=keras.datasets.mnist\n",
        "(train_data, train_label), (test_data, test_label) = mnist.load_data()"
      ],
      "metadata": {
        "id": "50cVIAItxZl5"
      },
      "execution_count": null,
      "outputs": []
    },
    {
      "cell_type": "code",
      "source": [
        "print(type(train_data))\n",
        "print(train_data.shape)\n",
        "print(type(train_label))\n",
        "print(train_label.shape)\n",
        "print(test_data.shape)\n",
        "print(test_label.shape)"
      ],
      "metadata": {
        "colab": {
          "base_uri": "https://localhost:8080/"
        },
        "id": "VV2GU5XYxaKw",
        "outputId": "a1acd732-0349-4479-922c-e0f08bc57a50"
      },
      "execution_count": null,
      "outputs": [
        {
          "output_type": "stream",
          "name": "stdout",
          "text": [
            "<class 'numpy.ndarray'>\n",
            "(60000, 28, 28)\n",
            "<class 'numpy.ndarray'>\n",
            "(60000,)\n",
            "(10000, 28, 28)\n",
            "(10000,)\n"
          ]
        }
      ]
    },
    {
      "cell_type": "code",
      "source": [
        "print(train_label[0])\n",
        "print(train_data[0])"
      ],
      "metadata": {
        "colab": {
          "base_uri": "https://localhost:8080/"
        },
        "id": "89WAxVpjxcio",
        "outputId": "b7c07376-637d-40ab-e392-395e0f2b5706"
      },
      "execution_count": null,
      "outputs": [
        {
          "output_type": "stream",
          "name": "stdout",
          "text": [
            "5\n",
            "[[  0   0   0   0   0   0   0   0   0   0   0   0   0   0   0   0   0   0\n",
            "    0   0   0   0   0   0   0   0   0   0]\n",
            " [  0   0   0   0   0   0   0   0   0   0   0   0   0   0   0   0   0   0\n",
            "    0   0   0   0   0   0   0   0   0   0]\n",
            " [  0   0   0   0   0   0   0   0   0   0   0   0   0   0   0   0   0   0\n",
            "    0   0   0   0   0   0   0   0   0   0]\n",
            " [  0   0   0   0   0   0   0   0   0   0   0   0   0   0   0   0   0   0\n",
            "    0   0   0   0   0   0   0   0   0   0]\n",
            " [  0   0   0   0   0   0   0   0   0   0   0   0   0   0   0   0   0   0\n",
            "    0   0   0   0   0   0   0   0   0   0]\n",
            " [  0   0   0   0   0   0   0   0   0   0   0   0   3  18  18  18 126 136\n",
            "  175  26 166 255 247 127   0   0   0   0]\n",
            " [  0   0   0   0   0   0   0   0  30  36  94 154 170 253 253 253 253 253\n",
            "  225 172 253 242 195  64   0   0   0   0]\n",
            " [  0   0   0   0   0   0   0  49 238 253 253 253 253 253 253 253 253 251\n",
            "   93  82  82  56  39   0   0   0   0   0]\n",
            " [  0   0   0   0   0   0   0  18 219 253 253 253 253 253 198 182 247 241\n",
            "    0   0   0   0   0   0   0   0   0   0]\n",
            " [  0   0   0   0   0   0   0   0  80 156 107 253 253 205  11   0  43 154\n",
            "    0   0   0   0   0   0   0   0   0   0]\n",
            " [  0   0   0   0   0   0   0   0   0  14   1 154 253  90   0   0   0   0\n",
            "    0   0   0   0   0   0   0   0   0   0]\n",
            " [  0   0   0   0   0   0   0   0   0   0   0 139 253 190   2   0   0   0\n",
            "    0   0   0   0   0   0   0   0   0   0]\n",
            " [  0   0   0   0   0   0   0   0   0   0   0  11 190 253  70   0   0   0\n",
            "    0   0   0   0   0   0   0   0   0   0]\n",
            " [  0   0   0   0   0   0   0   0   0   0   0   0  35 241 225 160 108   1\n",
            "    0   0   0   0   0   0   0   0   0   0]\n",
            " [  0   0   0   0   0   0   0   0   0   0   0   0   0  81 240 253 253 119\n",
            "   25   0   0   0   0   0   0   0   0   0]\n",
            " [  0   0   0   0   0   0   0   0   0   0   0   0   0   0  45 186 253 253\n",
            "  150  27   0   0   0   0   0   0   0   0]\n",
            " [  0   0   0   0   0   0   0   0   0   0   0   0   0   0   0  16  93 252\n",
            "  253 187   0   0   0   0   0   0   0   0]\n",
            " [  0   0   0   0   0   0   0   0   0   0   0   0   0   0   0   0   0 249\n",
            "  253 249  64   0   0   0   0   0   0   0]\n",
            " [  0   0   0   0   0   0   0   0   0   0   0   0   0   0  46 130 183 253\n",
            "  253 207   2   0   0   0   0   0   0   0]\n",
            " [  0   0   0   0   0   0   0   0   0   0   0   0  39 148 229 253 253 253\n",
            "  250 182   0   0   0   0   0   0   0   0]\n",
            " [  0   0   0   0   0   0   0   0   0   0  24 114 221 253 253 253 253 201\n",
            "   78   0   0   0   0   0   0   0   0   0]\n",
            " [  0   0   0   0   0   0   0   0  23  66 213 253 253 253 253 198  81   2\n",
            "    0   0   0   0   0   0   0   0   0   0]\n",
            " [  0   0   0   0   0   0  18 171 219 253 253 253 253 195  80   9   0   0\n",
            "    0   0   0   0   0   0   0   0   0   0]\n",
            " [  0   0   0   0  55 172 226 253 253 253 253 244 133  11   0   0   0   0\n",
            "    0   0   0   0   0   0   0   0   0   0]\n",
            " [  0   0   0   0 136 253 253 253 212 135 132  16   0   0   0   0   0   0\n",
            "    0   0   0   0   0   0   0   0   0   0]\n",
            " [  0   0   0   0   0   0   0   0   0   0   0   0   0   0   0   0   0   0\n",
            "    0   0   0   0   0   0   0   0   0   0]\n",
            " [  0   0   0   0   0   0   0   0   0   0   0   0   0   0   0   0   0   0\n",
            "    0   0   0   0   0   0   0   0   0   0]\n",
            " [  0   0   0   0   0   0   0   0   0   0   0   0   0   0   0   0   0   0\n",
            "    0   0   0   0   0   0   0   0   0   0]]\n"
          ]
        }
      ]
    },
    {
      "cell_type": "code",
      "source": [
        "import matplotlib.pyplot as plt\n",
        "plt.imshow(train_data[0], cmap='binary')\n",
        "plt.show()"
      ],
      "metadata": {
        "colab": {
          "base_uri": "https://localhost:8080/",
          "height": 265
        },
        "id": "HbFbfKj_yBQ5",
        "outputId": "aad36f10-9641-40b5-fe5f-155d8136cf8f"
      },
      "execution_count": null,
      "outputs": [
        {
          "output_type": "display_data",
          "data": {
            "text/plain": [
              "<Figure size 432x288 with 1 Axes>"
            ],
            "image/png": "[encoded data removed]"
          },
          "metadata": {
            "needs_background": "light"
          }
        }
      ]
    },
    {
      "cell_type": "code",
      "source": [
        "model.fit(train_data,train_label,epochs=50,batch_size=512)"
      ],
      "metadata": {
        "colab": {
          "base_uri": "https://localhost:8080/"
        },
        "id": "yaLU0GryyCk4",
        "outputId": "8c4980e0-5482-4c2b-e96b-fd01191aff99"
      },
      "execution_count": null,
      "outputs": [
        {
          "output_type": "stream",
          "name": "stdout",
          "text": [
            "Epoch 1/50\n",
            "118/118 [==============================] - 0s 3ms/step - loss: 0.0452 - accuracy: 0.9912\n",
            "Epoch 2/50\n",
            "118/118 [==============================] - 0s 3ms/step - loss: 0.0499 - accuracy: 0.9912\n",
            "Epoch 3/50\n",
            "118/118 [==============================] - 0s 3ms/step - loss: 0.0461 - accuracy: 0.9916\n",
            "Epoch 4/50\n",
            "118/118 [==============================] - 0s 3ms/step - loss: 0.0392 - accuracy: 0.9924\n",
            "Epoch 5/50\n",
            "118/118 [==============================] - 0s 3ms/step - loss: 0.0371 - accuracy: 0.9933\n",
            "Epoch 6/50\n",
            "118/118 [==============================] - 0s 3ms/step - loss: 0.0417 - accuracy: 0.9927\n",
            "Epoch 7/50\n",
            "118/118 [==============================] - 0s 3ms/step - loss: 0.0374 - accuracy: 0.9930\n",
            "Epoch 8/50\n",
            "118/118 [==============================] - 0s 3ms/step - loss: 0.0335 - accuracy: 0.9939\n",
            "Epoch 9/50\n",
            "118/118 [==============================] - 0s 3ms/step - loss: 0.0349 - accuracy: 0.9937\n",
            "Epoch 10/50\n",
            "118/118 [==============================] - 0s 3ms/step - loss: 0.0306 - accuracy: 0.9945\n",
            "Epoch 11/50\n",
            "118/118 [==============================] - 0s 3ms/step - loss: 0.0309 - accuracy: 0.9942\n",
            "Epoch 12/50\n",
            "118/118 [==============================] - 0s 3ms/step - loss: 0.0326 - accuracy: 0.9939\n",
            "Epoch 13/50\n",
            "118/118 [==============================] - 0s 3ms/step - loss: 0.0261 - accuracy: 0.9953\n",
            "Epoch 14/50\n",
            "118/118 [==============================] - 0s 3ms/step - loss: 0.0292 - accuracy: 0.9948\n",
            "Epoch 15/50\n",
            "118/118 [==============================] - 0s 3ms/step - loss: 0.0253 - accuracy: 0.9953\n",
            "Epoch 16/50\n",
            "118/118 [==============================] - 0s 3ms/step - loss: 0.0257 - accuracy: 0.9955\n",
            "Epoch 17/50\n",
            "118/118 [==============================] - 0s 4ms/step - loss: 0.0292 - accuracy: 0.9954\n",
            "Epoch 18/50\n",
            "118/118 [==============================] - 0s 4ms/step - loss: 0.0251 - accuracy: 0.9956\n",
            "Epoch 19/50\n",
            "118/118 [==============================] - 0s 4ms/step - loss: 0.0214 - accuracy: 0.9964\n",
            "Epoch 20/50\n",
            "118/118 [==============================] - 0s 4ms/step - loss: 0.0222 - accuracy: 0.9960\n",
            "Epoch 21/50\n",
            "118/118 [==============================] - 0s 4ms/step - loss: 0.0217 - accuracy: 0.9963\n",
            "Epoch 22/50\n",
            "118/118 [==============================] - 0s 3ms/step - loss: 0.0229 - accuracy: 0.9963\n",
            "Epoch 23/50\n",
            "118/118 [==============================] - 0s 3ms/step - loss: 0.0226 - accuracy: 0.9962\n",
            "Epoch 24/50\n",
            "118/118 [==============================] - 0s 3ms/step - loss: 0.0224 - accuracy: 0.9962\n",
            "Epoch 25/50\n",
            "118/118 [==============================] - 0s 3ms/step - loss: 0.0212 - accuracy: 0.9965\n",
            "Epoch 26/50\n",
            "118/118 [==============================] - 0s 3ms/step - loss: 0.0226 - accuracy: 0.9964\n",
            "Epoch 27/50\n",
            "118/118 [==============================] - 0s 3ms/step - loss: 0.0248 - accuracy: 0.9962\n",
            "Epoch 28/50\n",
            "118/118 [==============================] - 0s 3ms/step - loss: 0.0228 - accuracy: 0.9966\n",
            "Epoch 29/50\n",
            "118/118 [==============================] - 0s 3ms/step - loss: 0.0182 - accuracy: 0.9969\n",
            "Epoch 30/50\n",
            "118/118 [==============================] - 0s 3ms/step - loss: 0.0194 - accuracy: 0.9967\n",
            "Epoch 31/50\n",
            "118/118 [==============================] - 0s 3ms/step - loss: 0.0167 - accuracy: 0.9972\n",
            "Epoch 32/50\n",
            "118/118 [==============================] - 0s 3ms/step - loss: 0.0168 - accuracy: 0.9969\n",
            "Epoch 33/50\n",
            "118/118 [==============================] - 0s 3ms/step - loss: 0.0230 - accuracy: 0.9967\n",
            "Epoch 34/50\n",
            "118/118 [==============================] - 0s 3ms/step - loss: 0.0173 - accuracy: 0.9974\n",
            "Epoch 35/50\n",
            "118/118 [==============================] - 0s 3ms/step - loss: 0.0166 - accuracy: 0.9973\n",
            "Epoch 36/50\n",
            "118/118 [==============================] - 0s 3ms/step - loss: 0.0199 - accuracy: 0.9969\n",
            "Epoch 37/50\n",
            "118/118 [==============================] - 0s 3ms/step - loss: 0.0133 - accuracy: 0.9977\n",
            "Epoch 38/50\n",
            "118/118 [==============================] - 0s 3ms/step - loss: 0.0148 - accuracy: 0.9974\n",
            "Epoch 39/50\n",
            "118/118 [==============================] - 0s 3ms/step - loss: 0.0140 - accuracy: 0.9976\n",
            "Epoch 40/50\n",
            "118/118 [==============================] - 0s 3ms/step - loss: 0.0155 - accuracy: 0.9977\n",
            "Epoch 41/50\n",
            "118/118 [==============================] - 0s 3ms/step - loss: 0.0148 - accuracy: 0.9977\n",
            "Epoch 42/50\n",
            "118/118 [==============================] - 0s 3ms/step - loss: 0.0150 - accuracy: 0.9976\n",
            "Epoch 43/50\n",
            "118/118 [==============================] - 0s 3ms/step - loss: 0.0166 - accuracy: 0.9974\n",
            "Epoch 44/50\n",
            "118/118 [==============================] - 0s 3ms/step - loss: 0.0141 - accuracy: 0.9980\n",
            "Epoch 45/50\n",
            "118/118 [==============================] - 0s 3ms/step - loss: 0.0126 - accuracy: 0.9980\n",
            "Epoch 46/50\n",
            "118/118 [==============================] - 0s 3ms/step - loss: 0.0168 - accuracy: 0.9977\n",
            "Epoch 47/50\n",
            "118/118 [==============================] - 0s 3ms/step - loss: 0.0163 - accuracy: 0.9977\n",
            "Epoch 48/50\n",
            "118/118 [==============================] - 0s 3ms/step - loss: 0.0191 - accuracy: 0.9973\n",
            "Epoch 49/50\n",
            "118/118 [==============================] - 0s 3ms/step - loss: 0.0116 - accuracy: 0.9983\n",
            "Epoch 50/50\n",
            "118/118 [==============================] - 0s 4ms/step - loss: 0.0150 - accuracy: 0.9979\n"
          ]
        },
        {
          "output_type": "execute_result",
          "data": {
            "text/plain": [
              "<keras.callbacks.History at 0x7f583c091220>"
            ]
          },
          "metadata": {},
          "execution_count": 19
        }
      ]
    },
    {
      "cell_type": "code",
      "source": [
        "score=model.evaluate(test_data, test_label)\n",
        "print(score[1])"
      ],
      "metadata": {
        "colab": {
          "base_uri": "https://localhost:8080/"
        },
        "id": "HGCytfL_yF7g",
        "outputId": "db1c8cda-5497-4ebe-81d6-eb8dbf3df356"
      },
      "execution_count": null,
      "outputs": [
        {
          "output_type": "stream",
          "name": "stdout",
          "text": [
            "313/313 [==============================] - 1s 2ms/step - loss: 0.7262 - accuracy: 0.9727\n",
            "0.9726999998092651\n"
          ]
        }
      ]
    }
  ]
}